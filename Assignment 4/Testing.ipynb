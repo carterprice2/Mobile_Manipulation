{
 "cells": [
  {
   "cell_type": "markdown",
   "metadata": {},
   "source": [
    "TEST NOTEBOOK"
   ]
  },
  {
   "cell_type": "code",
   "execution_count": null,
   "metadata": {},
   "outputs": [],
   "source": [
    "#testing Stuff\n",
    "\n",
    "Null = Matrix([\n",
    "[0.929522217220758, -0.0234068548646389, 0.0612179281075172, 0.0612179281075172, 0.143141920133753, -0.103530319593595, -0.162047456755193], \n",
    "[-0.0234068548646390, 0.919233489807729, -0.0964568194971383, -0.0964568194971383, 0.186225966175809, 0.104301974149572, -0.0976143013311041], \n",
    "[0.0612179281075170, -0.0964568194971385, 0.559963989454055, -0.440036010545945, -0.102437142305960, 0.111825606070349, -0.129316442672497], \n",
    "[0.0612179281075170, -0.0964568194971385, -0.440036010545945, 0.559963989454055, -0.102437142305960, 0.111825606070349, -0.129316442672497], \n",
    "[0.143141920133753, 0.186225966175809, -0.102437142305961, -0.102437142305961, 0.245771976078709, -0.253231303453154, 0.212333611986367], \n",
    "[-0.103530319593595, 0.104301974149572, 0.111825606070349, 0.111825606070349, -0.253231303453154, 0.384412577969263, -0.354832486656806], \n",
    "[-0.162047456755193, -0.0976143013311041, -0.129316442672497, -0.129316442672497, 0.212333611986368, -0.354832486656806, 0.401131760015433]])"
   ]
  },
  {
   "cell_type": "code",
   "execution_count": null,
   "metadata": {},
   "outputs": [],
   "source": [
    "from numpy import linalg as LA\n",
    "\n",
    "for i in range(Null.shape[1]):\n",
    "    #print(np.sum(Null[:,i]))\n",
    "    a = np.asarray(Null[:,i], dtype= 'float64')\n",
    "    length = LA.norm(a)\n",
    "    #print(Null[:,i]/length)\n",
    "    \n",
    "print('____________________________')    \n",
    "N = Null * 5\n",
    "\n",
    "for i in range(N.shape[1]):\n",
    "    a = np.asarray(N[:,i], dtype= 'float64')\n",
    "    length = LA.norm(a)\n",
    "    #print(N[:,i]/length)"
   ]
  },
  {
   "cell_type": "code",
   "execution_count": null,
   "metadata": {},
   "outputs": [],
   "source": [
    "#print(Null)\n",
    "\n",
    "N_up = Null[:3,:3]\n",
    "N_up_inv = N_up.inv()\n",
    "#print(N_up)\n",
    "#print(N_up_inv)\n",
    "#print(N_up_inv*N_up)\n",
    "\n",
    "#print(Null)\n",
    "\n",
    "Null_rref = Matrix.rref(Null)\n",
    "#print(Null_rref)\n",
    "#print(Null.columnspace())\n",
    "#print(Null_rref[1])\n",
    "#print(len(Null_rref[1]))\n",
    "#a = np.asarray(Null)\n",
    "#print(LA.matrix_rank(a))"
   ]
  },
  {
   "cell_type": "code",
   "execution_count": null,
   "metadata": {},
   "outputs": [],
   "source": [
    "a = np.array([[0],[5],[3.14],[0],[0],[0],[0]])\n",
    "out1 = np.zeros((7,))\n",
    "\n",
    "i = 0\n",
    "#learning rate\n",
    "r = 1\n",
    "while( (abs(out1[0] - a[0][0]) + abs(out1[2] -a[2][0]) + abs(out1[1] - a[1][0])) > 0.01 ):\n",
    "    \n",
    "    out1 = Null*(a)\n",
    "    #print(out1)\n",
    "\n",
    "    b =  1+ r* (-out1[0] + a[0][0])\n",
    "    c = 1+r* (-out1[1] + a[1][0])\n",
    "    d = 1+ r* (-out1[2] + a[2][0])\n",
    "\n",
    "    null_mod_2 = Null\n",
    "    null_mod_2[:,0] = null_mod_2[:,0]*b\n",
    "    null_mod_2[:,1] = null_mod_2[:,1]*c\n",
    "    null_mod_2[:,2] = null_mod_2[:,2]*d\n",
    "    Null = null_mod_2\n",
    "    i += 1\n",
    "    \n",
    "    if i%50 == 0:\n",
    "        print(i)\n",
    "        print(round(b,4),round(c,4), round(d,4))\n",
    "        print(out1)\n",
    "    \n",
    "    if i > 5000:\n",
    "        break\n",
    "        \n",
    "#null_mod_2[:3,:3] = Matrix.eye(3)\n",
    "\n",
    "m = np.array([[0.1],[0],[0.03],[0],[0],[0],[0]])\n",
    "out3 = null_mod_2*m\n",
    "print(out3)"
   ]
  },
  {
   "cell_type": "code",
   "execution_count": null,
   "metadata": {},
   "outputs": [],
   "source": [
    "'''\n",
    "      a = np.array([[u[0]],[u[1]],[u[2]],[0],[0],[0],[0]])\n",
    "      out1 = np.zeros((7,))\n",
    "\n",
    "      i = 0\n",
    "      #learning rate\n",
    "      r = 1\n",
    "      while( (abs(out1[0] - a[0][0]) + abs(out1[2] -a[2][0]) + abs(out1[1] - a[1][0])) > 0.001 ):\n",
    "    \n",
    "        out1 = N*(a)\n",
    "         #print(out1)\n",
    "\n",
    "        b =  r* (-out1[0] + a[0][0])\n",
    "        c =  r* (-out1[1] + a[1][0])\n",
    "        d =  r* (-out1[2] + a[2][0])\n",
    "\n",
    "        null_mod_2 = N\n",
    "        null_mod_2[:,0] = null_mod_2[:,0]*b\n",
    "        null_mod_2[:,1] = null_mod_2[:,1]*c\n",
    "        null_mod_2[:,2] = null_mod_2[:,2]*d\n",
    "        N = null_mod_2\n",
    "        i += 1\n",
    "    \n",
    "        if i%1000 == 0:\n",
    "            print(i)\n",
    "            #print(round(b,4),round(c,4), round(d,4))\n",
    "            #print(out1)\n",
    "            \n",
    "        if i > 2500:\n",
    "            break\n",
    "        '''"
   ]
  }
 ],
 "metadata": {
  "kernelspec": {
   "display_name": "Python 3",
   "language": "python",
   "name": "python3"
  },
  "language_info": {
   "codemirror_mode": {
    "name": "ipython",
    "version": 3
   },
   "file_extension": ".py",
   "mimetype": "text/x-python",
   "name": "python",
   "nbconvert_exporter": "python",
   "pygments_lexer": "ipython3",
   "version": "3.6.10"
  }
 },
 "nbformat": 4,
 "nbformat_minor": 4
}
